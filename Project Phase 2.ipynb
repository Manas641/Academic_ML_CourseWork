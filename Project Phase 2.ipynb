{
 "cells": [
  {
   "cell_type": "markdown",
   "id": "066e15ec",
   "metadata": {},
   "source": [
    "<div style=\"background-color:antiquewhite; padding:10px\">\n",
    "<h1 style=\"text-align:center;color:Maroon\">ML Project Phase 2</h1>\n",
    "<h2 style=\"text-align:center;color:green\">Done By : Manas P P</h2>\n",
    "</div>"
   ]
  },
  {
   "cell_type": "markdown",
   "id": "07b15f53",
   "metadata": {},
   "source": [
    "<div style = \"background-color:Ghostwhite; padding:7px;\">\n",
    "<h1 style=\"text-align:center;\">GPU runtime prediction of matrix multiplication of  two 2048*2048 matrices on a SGEMM GPU.</h1>\n",
    "</div>\n",
    "\n",
    "---"
   ]
  },
  {
   "cell_type": "markdown",
   "id": "cce0d045",
   "metadata": {},
   "source": [
    "<h2 style = \"color:blue\">Problem Statement</h2>\n",
    "\n",
    "The runtime of a matrix multiplication operation between two 2048 by 2048 matrices performed on a parameterizable SGEMM GPU kernel is dependent on the parameter combination employed. The task is to predict the runtime provided a combination of the 14 possible parameters.  \n",
    "\n",
    "---"
   ]
  },
  {
   "cell_type": "markdown",
   "id": "9d428d3c",
   "metadata": {},
   "source": [
    "<h2 style = \"color:blue\">Datasets used for the problem </h2>\n",
    "\n",
    "We used the SGEMM GPU kernel performance Data Set ([dataset](https://archive.ics.uci.edu/ml/datasets/SGEMM+GPU+kernel+performance)) availbale on UCI ML Repository. The dataset contains the runtimes of 4 independent runs with each parameter combination. I work with the first Run (i.e, the target variable Run1). \n",
    "<br>\n",
    "<p>There are 14 parameters, the first 10 are ordinal and can only take up to \n",
    "4 different powers of two values, and the 4 last variables are binary. All times are measured in milliseconds. The experiment was run on a desktop workstation running Ubuntu 16.04 Linux\n",
    "with an Intel Core i5 (3.5GHz), 16GB RAM, and a NVidia Geforce GTX 680 4GB \n",
    "GF580 GTX-1.5GB GPU. Out of 1327104 total parameter combinations, only 261400 are feasible \n",
    "(due to various kernel constraints). </p>\n",
    "\n",
    "<h4>Attribute Information:</h4>\n",
    "\n",
    "<ul>Independent variables:\n",
    "<li>1-2. MWG, NWG: per-matrix 2D tiling at workgroup level: {16, 32, 64, 128} (integer)</li>\n",
    "<li>3. KWG: inner dimension of 2D tiling at workgroup level: {16, 32} (integer)</li>\n",
    "<li>4-5. MDIMC, NDIMC: local workgroup size: {8, 16, 32} (integer)</li>\n",
    "<li>6-7. MDIMA, NDIMB: local memory shape: {8, 16, 32} (integer)</li>\n",
    "<li>8. KWI: kernel loop unrolling factor: {2, 8} (integer)</li>\n",
    "<li>9-10. VWM, VWN: per-matrix vector widths for loading and storing: {1, 2, 4, 8} (integer)</li>\n",
    "<li>11-12. STRM, STRN: enable stride for accessing off-chip memory within a single thread: {0, 1} (categorical)</li>\n",
    "<li>13-14. SA, SB: per-matrix manual caching of the 2D workgroup tile: {0, 1} (categorical)</li>\n",
    "</ul>\n",
    "<ul>Output:\n",
    "<li>15-18. Run1, Run2, Run3, Run4: performance times in milliseconds for 4 independent runs using the same parameters. They range between 13.25 and 3397.08</li>\n",
    "</ul>\n",
    "\n",
    "<h5>Citation Request:</h5>\n",
    "\n",
    "<ul>\n",
    "    \n",
    "<li>Rafael Ballester-Ripoll, Enrique G. Paredes, Renato Pajarola.\n",
    "Sobol Tensor Trains for Global Sensitivity Analysis.\n",
    "In arXiv Computer Science / Numerical Analysis e-prints, 2017.\n",
    "</li>\n",
    "<li>Cedric Nugteren and Valeriu Codreanu.\n",
    "CLTune: A Generic Auto-Tuner for OpenCL Kernels.\n",
    "In: MCSoC: 9th International Symposium on Embedded Multicore/Many-core Systems-on-Chip. IEEE, 2015\n",
    "</li>\n",
    "</ul>\n",
    "\n",
    "---"
   ]
  },
  {
   "cell_type": "markdown",
   "id": "ad42e387",
   "metadata": {},
   "source": [
    "<h2 style = \"color:blue\">Python Pacakages used in this work</h2>\n",
    "\n",
    "<ul>\n",
    "    <li>NumPy : One of the most popular libraries for array computation in python, we use this to deal with vectors and matrices. </li>\n",
    "    <li>Pandas : A popular data analysis and manipulation tool, this is used organise the data and deal with it in a tabular format. </li>\n",
    "    <li>Matplotlib : It is a plotting library for Python and we use it make most of the plots in this work.</li>\n",
    "    <li>Scikit-Learn : Built on NumPy, SciPy and matplotlib, we use the provided APIs to preprocess data, train machine learning models and make predictions.</li>\n",
    "    <li>Seaborn : Built on matplotlib, it provides a high level interface for plotting graphs and is used in some of the plots.</li>\n",
    "</ul>"
   ]
  },
  {
   "cell_type": "code",
   "execution_count": 1,
   "id": "a86038ae",
   "metadata": {},
   "outputs": [
    {
     "name": "stdout",
     "output_type": "stream",
     "text": [
      "Sklearn version:  0.24.1\n",
      "Pandas version:  1.2.4\n",
      "Numpy version:  1.19.5\n",
      "Matplotlib version:  3.3.4\n",
      "Seabron version:  0.11.1\n"
     ]
    }
   ],
   "source": [
    "import numpy as np\n",
    "import pandas as pd\n",
    "import sklearn\n",
    "import matplotlib\n",
    "import seaborn as sns\n",
    "\n",
    "print(\"Sklearn version: \",sklearn.__version__)\n",
    "print(\"Pandas version: \",pd.__version__)\n",
    "print(\"Numpy version: \",np.__version__)\n",
    "print(\"Matplotlib version: \",matplotlib.__version__)\n",
    "print(\"Seabron version: \",sns.__version__)"
   ]
  },
  {
   "cell_type": "markdown",
   "id": "812ed52d",
   "metadata": {},
   "source": [
    "<h2 style = \"color:blue\">Data Preprocessing and EDA</h2>\n",
    "\n",
    "1) There are 10 ordinal variables which we process using sklearn's \n",
    "[OrdinalEncoder](https://scikit-learn.org/stable/modules/generated/sklearn.preprocessing.OrdinalEncoder.html)\n",
    "\n",
    "2) There are 4 categorical variables(nominal) which we process using pandas's\n",
    "[get_dummies](https://pandas.pydata.org/docs/reference/api/pandas.get_dummies.html)"
   ]
  },
  {
   "cell_type": "code",
   "execution_count": 2,
   "id": "a50fc951",
   "metadata": {},
   "outputs": [],
   "source": [
    "data = pd.read_csv(\"sgemm_product_dataset\\sgemm_product.csv\")\n",
    "\n",
    "from sklearn.preprocessing import OrdinalEncoder\n",
    "encoder = OrdinalEncoder()\n",
    "tr = encoder.fit_transform(data[['MWG', 'NWG', 'KWG', 'MDIMC', 'NDIMC', 'MDIMA', 'NDIMB', 'KWI', 'VWM','VWN']])\n",
    "data[['MWG', 'NWG', 'KWG', 'MDIMC', 'NDIMC', 'MDIMA', 'NDIMB', 'KWI', 'VWM','VWN']] = tr\n",
    "\n",
    "data = pd.get_dummies(data,columns = ['STRM', 'STRN', 'SA', 'SB'],drop_first  = True)\n",
    "\n",
    "data = data[['MWG', 'NWG', 'KWG', 'MDIMC', 'NDIMC', 'MDIMA', 'NDIMB', 'KWI', 'VWM','VWN', 'STRM_1',\n",
    "             'STRN_1', 'SA_1', 'SB_1', 'Run1 (ms)']]"
   ]
  },
  {
   "cell_type": "code",
   "execution_count": 3,
   "id": "d65f1e50",
   "metadata": {},
   "outputs": [
    {
     "name": "stdout",
     "output_type": "stream",
     "text": [
      " \n",
      "-------------------------------------------------------------------\n",
      "Columns and the datatypes in the dataframe : \n",
      "\n",
      "[('MWG', dtype('float64')), ('NWG', dtype('float64')), ('KWG', dtype('float64')), ('MDIMC', dtype('float64')), ('NDIMC', dtype('float64')), ('MDIMA', dtype('float64')), ('NDIMB', dtype('float64')), ('KWI', dtype('float64')), ('VWM', dtype('float64')), ('VWN', dtype('float64')), ('STRM_1', dtype('uint8')), ('STRN_1', dtype('uint8')), ('SA_1', dtype('uint8')), ('SB_1', dtype('uint8')), ('Run1 (ms)', dtype('float64'))]\n",
      "-------------------------------------------------------------------\n",
      "Shape of the dataframe :  (241600, 15)\n",
      " \n",
      "-------------------------------------------------------------------\n"
     ]
    }
   ],
   "source": [
    "print(\" \")\n",
    "print(\"-------------------------------------------------------------------\")\n",
    "print(\"Columns and the datatypes in the dataframe : \")\n",
    "print()\n",
    "print(list(zip(list(data.columns),list(data.dtypes))))\n",
    "print(\"-------------------------------------------------------------------\")\n",
    "print(\"Shape of the dataframe : \",data.shape)\n",
    "print(\" \")\n",
    "print(\"-------------------------------------------------------------------\")"
   ]
  },
  {
   "cell_type": "code",
   "execution_count": 4,
   "id": "66a548b7",
   "metadata": {},
   "outputs": [
    {
     "data": {
      "text/html": [
       "<div>\n",
       "<style scoped>\n",
       "    .dataframe tbody tr th:only-of-type {\n",
       "        vertical-align: middle;\n",
       "    }\n",
       "\n",
       "    .dataframe tbody tr th {\n",
       "        vertical-align: top;\n",
       "    }\n",
       "\n",
       "    .dataframe thead th {\n",
       "        text-align: right;\n",
       "    }\n",
       "</style>\n",
       "<table border=\"1\" class=\"dataframe\">\n",
       "  <thead>\n",
       "    <tr style=\"text-align: right;\">\n",
       "      <th></th>\n",
       "      <th>MWG</th>\n",
       "      <th>NWG</th>\n",
       "      <th>KWG</th>\n",
       "      <th>MDIMC</th>\n",
       "      <th>NDIMC</th>\n",
       "      <th>MDIMA</th>\n",
       "      <th>NDIMB</th>\n",
       "      <th>KWI</th>\n",
       "      <th>VWM</th>\n",
       "    </tr>\n",
       "  </thead>\n",
       "  <tbody>\n",
       "    <tr>\n",
       "      <th>count</th>\n",
       "      <td>241600.000000</td>\n",
       "      <td>241600.000000</td>\n",
       "      <td>241600.000000</td>\n",
       "      <td>241600.000000</td>\n",
       "      <td>241600.000000</td>\n",
       "      <td>241600.000000</td>\n",
       "      <td>241600.000000</td>\n",
       "      <td>241600.000000</td>\n",
       "      <td>241600.000000</td>\n",
       "    </tr>\n",
       "    <tr>\n",
       "      <th>mean</th>\n",
       "      <td>2.060662</td>\n",
       "      <td>2.060662</td>\n",
       "      <td>0.594570</td>\n",
       "      <td>0.612450</td>\n",
       "      <td>0.612450</td>\n",
       "      <td>0.908344</td>\n",
       "      <td>0.908344</td>\n",
       "      <td>0.500000</td>\n",
       "      <td>0.939338</td>\n",
       "    </tr>\n",
       "    <tr>\n",
       "      <th>std</th>\n",
       "      <td>0.958493</td>\n",
       "      <td>0.958493</td>\n",
       "      <td>0.490976</td>\n",
       "      <td>0.704578</td>\n",
       "      <td>0.704578</td>\n",
       "      <td>0.780609</td>\n",
       "      <td>0.780609</td>\n",
       "      <td>0.500001</td>\n",
       "      <td>0.958493</td>\n",
       "    </tr>\n",
       "    <tr>\n",
       "      <th>min</th>\n",
       "      <td>0.000000</td>\n",
       "      <td>0.000000</td>\n",
       "      <td>0.000000</td>\n",
       "      <td>0.000000</td>\n",
       "      <td>0.000000</td>\n",
       "      <td>0.000000</td>\n",
       "      <td>0.000000</td>\n",
       "      <td>0.000000</td>\n",
       "      <td>0.000000</td>\n",
       "    </tr>\n",
       "    <tr>\n",
       "      <th>25%</th>\n",
       "      <td>1.000000</td>\n",
       "      <td>1.000000</td>\n",
       "      <td>0.000000</td>\n",
       "      <td>0.000000</td>\n",
       "      <td>0.000000</td>\n",
       "      <td>0.000000</td>\n",
       "      <td>0.000000</td>\n",
       "      <td>0.000000</td>\n",
       "      <td>0.000000</td>\n",
       "    </tr>\n",
       "    <tr>\n",
       "      <th>50%</th>\n",
       "      <td>2.000000</td>\n",
       "      <td>2.000000</td>\n",
       "      <td>1.000000</td>\n",
       "      <td>0.000000</td>\n",
       "      <td>0.000000</td>\n",
       "      <td>1.000000</td>\n",
       "      <td>1.000000</td>\n",
       "      <td>0.500000</td>\n",
       "      <td>1.000000</td>\n",
       "    </tr>\n",
       "    <tr>\n",
       "      <th>75%</th>\n",
       "      <td>3.000000</td>\n",
       "      <td>3.000000</td>\n",
       "      <td>1.000000</td>\n",
       "      <td>1.000000</td>\n",
       "      <td>1.000000</td>\n",
       "      <td>2.000000</td>\n",
       "      <td>2.000000</td>\n",
       "      <td>1.000000</td>\n",
       "      <td>2.000000</td>\n",
       "    </tr>\n",
       "    <tr>\n",
       "      <th>max</th>\n",
       "      <td>3.000000</td>\n",
       "      <td>3.000000</td>\n",
       "      <td>1.000000</td>\n",
       "      <td>2.000000</td>\n",
       "      <td>2.000000</td>\n",
       "      <td>2.000000</td>\n",
       "      <td>2.000000</td>\n",
       "      <td>1.000000</td>\n",
       "      <td>3.000000</td>\n",
       "    </tr>\n",
       "  </tbody>\n",
       "</table>\n",
       "</div>"
      ],
      "text/plain": [
       "                 MWG            NWG            KWG          MDIMC  \\\n",
       "count  241600.000000  241600.000000  241600.000000  241600.000000   \n",
       "mean        2.060662       2.060662       0.594570       0.612450   \n",
       "std         0.958493       0.958493       0.490976       0.704578   \n",
       "min         0.000000       0.000000       0.000000       0.000000   \n",
       "25%         1.000000       1.000000       0.000000       0.000000   \n",
       "50%         2.000000       2.000000       1.000000       0.000000   \n",
       "75%         3.000000       3.000000       1.000000       1.000000   \n",
       "max         3.000000       3.000000       1.000000       2.000000   \n",
       "\n",
       "               NDIMC          MDIMA          NDIMB            KWI  \\\n",
       "count  241600.000000  241600.000000  241600.000000  241600.000000   \n",
       "mean        0.612450       0.908344       0.908344       0.500000   \n",
       "std         0.704578       0.780609       0.780609       0.500001   \n",
       "min         0.000000       0.000000       0.000000       0.000000   \n",
       "25%         0.000000       0.000000       0.000000       0.000000   \n",
       "50%         0.000000       1.000000       1.000000       0.500000   \n",
       "75%         1.000000       2.000000       2.000000       1.000000   \n",
       "max         2.000000       2.000000       2.000000       1.000000   \n",
       "\n",
       "                 VWM  \n",
       "count  241600.000000  \n",
       "mean        0.939338  \n",
       "std         0.958493  \n",
       "min         0.000000  \n",
       "25%         0.000000  \n",
       "50%         1.000000  \n",
       "75%         2.000000  \n",
       "max         3.000000  "
      ]
     },
     "execution_count": 4,
     "metadata": {},
     "output_type": "execute_result"
    }
   ],
   "source": [
    "data.describe()[['MWG', 'NWG', 'KWG', 'MDIMC', 'NDIMC', 'MDIMA', 'NDIMB', 'KWI', 'VWM']]"
   ]
  },
  {
   "cell_type": "code",
   "execution_count": 5,
   "id": "94b58c37",
   "metadata": {},
   "outputs": [
    {
     "data": {
      "text/html": [
       "<div>\n",
       "<style scoped>\n",
       "    .dataframe tbody tr th:only-of-type {\n",
       "        vertical-align: middle;\n",
       "    }\n",
       "\n",
       "    .dataframe tbody tr th {\n",
       "        vertical-align: top;\n",
       "    }\n",
       "\n",
       "    .dataframe thead th {\n",
       "        text-align: right;\n",
       "    }\n",
       "</style>\n",
       "<table border=\"1\" class=\"dataframe\">\n",
       "  <thead>\n",
       "    <tr style=\"text-align: right;\">\n",
       "      <th></th>\n",
       "      <th>VWN</th>\n",
       "      <th>STRM_1</th>\n",
       "      <th>STRN_1</th>\n",
       "      <th>SA_1</th>\n",
       "      <th>SB_1</th>\n",
       "      <th>Run1 (ms)</th>\n",
       "    </tr>\n",
       "  </thead>\n",
       "  <tbody>\n",
       "    <tr>\n",
       "      <th>count</th>\n",
       "      <td>241600.000000</td>\n",
       "      <td>241600.000000</td>\n",
       "      <td>241600.000000</td>\n",
       "      <td>241600.000000</td>\n",
       "      <td>241600.000000</td>\n",
       "      <td>241600.000000</td>\n",
       "    </tr>\n",
       "    <tr>\n",
       "      <th>mean</th>\n",
       "      <td>0.939338</td>\n",
       "      <td>0.500000</td>\n",
       "      <td>0.500000</td>\n",
       "      <td>0.500000</td>\n",
       "      <td>0.500000</td>\n",
       "      <td>217.647852</td>\n",
       "    </tr>\n",
       "    <tr>\n",
       "      <th>std</th>\n",
       "      <td>0.958493</td>\n",
       "      <td>0.500001</td>\n",
       "      <td>0.500001</td>\n",
       "      <td>0.500001</td>\n",
       "      <td>0.500001</td>\n",
       "      <td>369.012422</td>\n",
       "    </tr>\n",
       "    <tr>\n",
       "      <th>min</th>\n",
       "      <td>0.000000</td>\n",
       "      <td>0.000000</td>\n",
       "      <td>0.000000</td>\n",
       "      <td>0.000000</td>\n",
       "      <td>0.000000</td>\n",
       "      <td>13.290000</td>\n",
       "    </tr>\n",
       "    <tr>\n",
       "      <th>25%</th>\n",
       "      <td>0.000000</td>\n",
       "      <td>0.000000</td>\n",
       "      <td>0.000000</td>\n",
       "      <td>0.000000</td>\n",
       "      <td>0.000000</td>\n",
       "      <td>40.660000</td>\n",
       "    </tr>\n",
       "    <tr>\n",
       "      <th>50%</th>\n",
       "      <td>1.000000</td>\n",
       "      <td>0.500000</td>\n",
       "      <td>0.500000</td>\n",
       "      <td>0.500000</td>\n",
       "      <td>0.500000</td>\n",
       "      <td>69.825000</td>\n",
       "    </tr>\n",
       "    <tr>\n",
       "      <th>75%</th>\n",
       "      <td>2.000000</td>\n",
       "      <td>1.000000</td>\n",
       "      <td>1.000000</td>\n",
       "      <td>1.000000</td>\n",
       "      <td>1.000000</td>\n",
       "      <td>228.530000</td>\n",
       "    </tr>\n",
       "    <tr>\n",
       "      <th>max</th>\n",
       "      <td>3.000000</td>\n",
       "      <td>1.000000</td>\n",
       "      <td>1.000000</td>\n",
       "      <td>1.000000</td>\n",
       "      <td>1.000000</td>\n",
       "      <td>3339.630000</td>\n",
       "    </tr>\n",
       "  </tbody>\n",
       "</table>\n",
       "</div>"
      ],
      "text/plain": [
       "                 VWN         STRM_1         STRN_1           SA_1  \\\n",
       "count  241600.000000  241600.000000  241600.000000  241600.000000   \n",
       "mean        0.939338       0.500000       0.500000       0.500000   \n",
       "std         0.958493       0.500001       0.500001       0.500001   \n",
       "min         0.000000       0.000000       0.000000       0.000000   \n",
       "25%         0.000000       0.000000       0.000000       0.000000   \n",
       "50%         1.000000       0.500000       0.500000       0.500000   \n",
       "75%         2.000000       1.000000       1.000000       1.000000   \n",
       "max         3.000000       1.000000       1.000000       1.000000   \n",
       "\n",
       "                SB_1      Run1 (ms)  \n",
       "count  241600.000000  241600.000000  \n",
       "mean        0.500000     217.647852  \n",
       "std         0.500001     369.012422  \n",
       "min         0.000000      13.290000  \n",
       "25%         0.000000      40.660000  \n",
       "50%         0.500000      69.825000  \n",
       "75%         1.000000     228.530000  \n",
       "max         1.000000    3339.630000  "
      ]
     },
     "execution_count": 5,
     "metadata": {},
     "output_type": "execute_result"
    }
   ],
   "source": [
    "data.describe()[['VWN', 'STRM_1', 'STRN_1', 'SA_1', 'SB_1', 'Run1 (ms)']]"
   ]
  },
  {
   "cell_type": "markdown",
   "id": "61503589",
   "metadata": {},
   "source": [
    "### Checking for outliers"
   ]
  },
  {
   "cell_type": "code",
   "execution_count": 6,
   "id": "32ae6dee",
   "metadata": {},
   "outputs": [
    {
     "data": {
      "image/png": "[encoded data removed]",
      "text/plain": [
       "<Figure size 432x288 with 1 Axes>"
      ]
     },
     "metadata": {
      "needs_background": "light"
     },
     "output_type": "display_data"
    }
   ],
   "source": [
    "import matplotlib.pyplot as plt\n",
    "\n",
    "fig1,ax1 = plt.subplots()\n",
    "ax1.scatter([i for i in range(data.shape[0])],data['Run1 (ms)'])\n",
    "ax1.set_ylabel(\"Runtime (ms)\")\n",
    "plt.show()"
   ]
  },
  {
   "cell_type": "markdown",
   "id": "02a27b4e",
   "metadata": {},
   "source": [
    "<ul>\n",
    "<li>It doesn't seem like there are any clear outliers, the higher run times could be because of poor parameter combination.\n",
    "</li>\n",
    "</ul>"
   ]
  },
  {
   "cell_type": "markdown",
   "id": "ac83ce5d",
   "metadata": {},
   "source": [
    "### Plotting the correlation between variables"
   ]
  },
  {
   "cell_type": "code",
   "execution_count": 7,
   "id": "795dea8b",
   "metadata": {},
   "outputs": [
    {
     "data": {
      "text/plain": [
       "<AxesSubplot:>"
      ]
     },
     "execution_count": 7,
     "metadata": {},
     "output_type": "execute_result"
    },
    {
     "data": {
      "image/png": "[encoded data removed]",
      "text/plain": [
       "<Figure size 432x288 with 2 Axes>"
      ]
     },
     "metadata": {
      "needs_background": "light"
     },
     "output_type": "display_data"
    }
   ],
   "source": [
    "cor_mat = data.corr()\n",
    "mask = np.triu(np.ones_like(cor_mat, dtype=bool))\n",
    "sns.heatmap(cor_mat, mask=mask)"
   ]
  },
  {
   "cell_type": "markdown",
   "id": "f13b2a06",
   "metadata": {},
   "source": [
    "<ul>\n",
    "    <li> There isn't much correlation between the independent variables or between the independent and target variables.</li>\n",
    "</ul>"
   ]
  },
  {
   "cell_type": "markdown",
   "id": "f32b78ff",
   "metadata": {},
   "source": [
    "### Observing the plots between the target and independent varaibles"
   ]
  },
  {
   "cell_type": "code",
   "execution_count": 39,
   "id": "ca810fe9",
   "metadata": {},
   "outputs": [
    {
     "data": {
      "image/png": "[encoded data removed]",
      "text/plain": [
       "<Figure size 576x1728 with 14 Axes>"
      ]
     },
     "metadata": {
      "needs_background": "light"
     },
     "output_type": "display_data"
    }
   ],
   "source": [
    "fig2,ax2 = plt.subplots(7,2,figsize = (8,24),sharey = True)\n",
    "cols = data.columns\n",
    "count = 0\n",
    "for i in range(0,7):\n",
    "    for j in range(0,2):\n",
    "        ax2[i,j].scatter(data[cols[count]],data['Run1 (ms)'])\n",
    "        vals = data[cols[count]].unique()\n",
    "        targ = [np.mean(data[data[cols[count]] == i]['Run1 (ms)']) for i in vals]\n",
    "        ax2[i,j].scatter(vals,targ,color = 'yellow')\n",
    "        ax2[i,j].set_ylabel('target -> runtime in ms')\n",
    "        ax2[i,j].set_xlabel(f'{cols[count]}')\n",
    "        ax2[i,j].legend(['targets', 'mean target'],loc = 1)\n",
    "        count += 1"
   ]
  },
  {
   "cell_type": "markdown",
   "id": "46c9746a",
   "metadata": {},
   "source": [
    "The correlation plot showed that there isn't much correlation between the target and independent variables. However looking at the graph above we can see that some variables are showing an upper limit on the possible target values, these variables include **NDIMC**, **NWG**, **MDIMC**, **MWG**, **SA_1**,**SB_1**, **KWG** and **KWI**. We expect these variables to be of greater importance in our models."
   ]
  },
  {
   "cell_type": "markdown",
   "id": "95bf5bed",
   "metadata": {},
   "source": [
    "<h2 style = \"color:blue\">Training the models and performing inference</h2>\n",
    "\n",
    "<ul>Algorithm used for the problem.\n",
    "    <li>Linear Regression: We start with this basic regression algorithm.</li>\n",
    "    <li>Support Vector Regression</li>\n",
    "    <li>Decision Tree Regression: We observed that some variables have an upper bound on the target variable that the job assumes and this algorithm could exploit that in its tree structure.</li>\n",
    "</ul>"
   ]
  },
  {
   "cell_type": "markdown",
   "id": "5b69cf0d",
   "metadata": {},
   "source": [
    "### Train Test Split"
   ]
  },
  {
   "cell_type": "code",
   "execution_count": 8,
   "id": "4426b52c",
   "metadata": {},
   "outputs": [],
   "source": [
    "X = data[['MWG', 'NWG', 'KWG', 'MDIMC', 'NDIMC', 'MDIMA', 'NDIMB', 'KWI', 'VWM','VWN', 'STRM_1',\n",
    "             'STRN_1', 'SA_1', 'SB_1']]\n",
    "Y = data[['Run1 (ms)']]\n",
    "\n",
    "from sklearn.model_selection import train_test_split\n",
    "\n",
    "X_train,X_test,Y_train,Y_test = train_test_split(X,Y,test_size = 0.15)"
   ]
  },
  {
   "cell_type": "code",
   "execution_count": 9,
   "id": "20b38ca6",
   "metadata": {},
   "outputs": [],
   "source": [
    "from sklearn.metrics import mean_squared_error, make_scorer\n",
    "mse = make_scorer(mean_squared_error)"
   ]
  },
  {
   "cell_type": "markdown",
   "id": "6e8f050d",
   "metadata": {},
   "source": [
    "### Calculating the Cross validation Scores on each algorithm\n",
    "\n",
    "We perform 5 fold cross validation on each of the algorithm and calculate the RMSE (root mean squared error) as the performance evaluation metric."
   ]
  },
  {
   "cell_type": "markdown",
   "id": "392f37b6",
   "metadata": {},
   "source": [
    "### Self implementing the Linear Regression algorithm"
   ]
  },
  {
   "cell_type": "code",
   "execution_count": 16,
   "id": "651a31dc",
   "metadata": {},
   "outputs": [],
   "source": [
    "from sklearn.preprocessing import MinMaxScaler\n",
    "def gradient_descent_mv(alpha, x, y, max_iter=1000):\n",
    "    x,val_x,y,val_y = train_test_split(x,y)\n",
    "    \n",
    "    x = np.append(x,np.reshape(np.array([1]*x.shape[0]),(x.shape[0],1)),axis = 1)\n",
    "    val_x = np.append(val_x,np.reshape(np.array([1]*val_x.shape[0]),(val_x.shape[0],1)),axis = 1)\n",
    "    theta = [0]*x.shape[1]\n",
    "    theta =  np.reshape(theta,(len(theta),1))\n",
    "    mse = np.sum(np.square(np.dot(val_x,theta) - np.array(val_y)))/(val_x.shape[0])\n",
    "    min_mse = mse\n",
    "    count = 0\n",
    "    temp = []\n",
    "    for i in range(0,max_iter):\n",
    "        theta = np.reshape(theta,(len(theta),1)) - (alpha*(np.dot(np.transpose(x),(np.reshape(np.dot(x,theta),(x.shape[0],1)) - np.array(y))))/(x.shape[1]))\n",
    "        temp_mse = np.sum(np.square(np.dot(val_x,theta) - val_y))/(val_x.shape[0])\n",
    "        if (temp_mse['Run1 (ms)'] > mse):\n",
    "            temp.append(theta)\n",
    "            count += 1\n",
    "            if (count > 100):\n",
    "                theta = temp[0]\n",
    "                break\n",
    "        else:\n",
    "            if (temp_mse['Run1 (ms)'] <= min_mse):\n",
    "                mse = temp_mse['Run1 (ms)']\n",
    "                min_mse = temp_mse['Run1 (ms)']\n",
    "                temp = []\n",
    "                count = 0\n",
    "            else:\n",
    "                temp.append(theta)\n",
    "    return theta"
   ]
  },
  {
   "cell_type": "code",
   "execution_count": 17,
   "id": "f11b84c0",
   "metadata": {
    "scrolled": true
   },
   "outputs": [
    {
     "name": "stdout",
     "output_type": "stream",
     "text": [
      "The 5 fold cross validation scores: \n",
      "2789.4497641742414\n",
      "2802.9345625502156\n",
      "2800.6877356400933\n",
      "2806.7056628538808\n",
      "2802.418200242353\n"
     ]
    }
   ],
   "source": [
    "from sklearn.model_selection import ShuffleSplit\n",
    "ss = ShuffleSplit(n_splits=5, test_size=.25, random_state=0)\n",
    "theta_l = []\n",
    "self_lr_cv = []\n",
    "print(\"The 5 fold cross validation scores: \")\n",
    "for train_index, val_index in ss.split(X_train):\n",
    "    x_train = X_train.iloc[train_index]\n",
    "    y_train = Y_train.iloc[train_index]\n",
    "    val_x = X_train.iloc[val_index]\n",
    "    val_y = Y_train.iloc[val_index]\n",
    "    theta = gradient_descent_mv(0.0001, x_train, y_train)\n",
    "    theta_l.append(theta)\n",
    "    pred_y = []\n",
    "    for i in range(val_x.shape[0]):\n",
    "        temp_l = list(np.array(val_x.iloc[i,:]))\n",
    "        temp_l.append(1)\n",
    "        pred_y.append(np.dot(np.array(temp_l),theta))\n",
    "    self_lr_cv.append(np.sqrt(mean_squared_error(pred_y,val_y)))\n",
    "    print(np.sqrt(mean_squared_error(pred_y,val_y)))"
   ]
  },
  {
   "cell_type": "code",
   "execution_count": 18,
   "id": "530bc946",
   "metadata": {},
   "outputs": [
    {
     "name": "stdout",
     "output_type": "stream",
     "text": [
      "Prediction score on unseen test data: \n",
      "2799.524655195195\n"
     ]
    }
   ],
   "source": [
    "print(\"Prediction score on unseen test data: \")\n",
    "final_pred = []\n",
    "for theta in theta_l:   \n",
    "    pred_y = []\n",
    "    for i in range(X_test.shape[0]):\n",
    "        temp_l = list(np.array(X_test.iloc[i,:]))\n",
    "        temp_l.append(1)\n",
    "        pred_y.append(np.dot(np.array(temp_l),theta))\n",
    "        final_pred.append(pred_y)\n",
    "final_y = (np.array(final_pred[0]) + np.array(final_pred[1]) + np.array(final_pred[2]) + \n",
    "                                                    np.array(final_pred[3]) + np.array(final_pred[4]))/5\n",
    "self_lr_ts = np.sqrt(mean_squared_error(final_y,Y_test))\n",
    "print(np.sqrt(mean_squared_error(final_y,Y_test)))"
   ]
  },
  {
   "cell_type": "markdown",
   "id": "2ebd05f1",
   "metadata": {},
   "source": [
    "### Sklearn's Linear Regression "
   ]
  },
  {
   "cell_type": "code",
   "execution_count": 19,
   "id": "86c5160c",
   "metadata": {},
   "outputs": [
    {
     "name": "stdout",
     "output_type": "stream",
     "text": [
      "The 5 fold cross validation scores: \n",
      "287.62208672138576\n",
      "283.08917087038225\n",
      "281.4785986143169\n",
      "283.2490541561185\n",
      "284.09931582958245\n"
     ]
    }
   ],
   "source": [
    "from sklearn.model_selection import ShuffleSplit\n",
    "ss = ShuffleSplit(n_splits=5, test_size=.25, random_state=0)\n",
    "from sklearn.linear_model import LinearRegression\n",
    "sklearn_lr = []\n",
    "lr_cv = []\n",
    "print(\"The 5 fold cross validation scores: \")\n",
    "for train_index, val_index in ss.split(X_train):\n",
    "    x_train = X_train.iloc[train_index]\n",
    "    y_train = Y_train.iloc[train_index]\n",
    "    val_x = X_train.iloc[val_index]\n",
    "    val_y = Y_train.iloc[val_index]\n",
    "    sklearn_lr.append(LinearRegression().fit(x_train,y_train))\n",
    "    pred_y = sklearn_lr[-1].predict(val_x)\n",
    "    lr_cv.append(np.sqrt(mean_squared_error(pred_y,val_y)))\n",
    "    print(np.sqrt(mean_squared_error(pred_y,val_y)))"
   ]
  },
  {
   "cell_type": "code",
   "execution_count": 20,
   "id": "140ac23b",
   "metadata": {},
   "outputs": [
    {
     "name": "stdout",
     "output_type": "stream",
     "text": [
      "Prediction score on unseen test data: \n",
      "283.48846479209516\n"
     ]
    }
   ],
   "source": [
    "print(\"Prediction score on unseen test data: \")\n",
    "final_pred = []\n",
    "for lr in sklearn_lr:   \n",
    "        final_pred.append(lr.predict(X_test))\n",
    "final_y = (np.array(final_pred[0]) + np.array(final_pred[1]) + np.array(final_pred[2]) + \n",
    "                                                    np.array(final_pred[3]) + np.array(final_pred[4]))/5\n",
    "lr_ts = np.sqrt(mean_squared_error(final_y,Y_test))\n",
    "print(np.sqrt(mean_squared_error(final_y,Y_test)))"
   ]
  },
  {
   "cell_type": "markdown",
   "id": "56999515",
   "metadata": {},
   "source": [
    "### Support Vector Regression"
   ]
  },
  {
   "cell_type": "code",
   "execution_count": 21,
   "id": "d33a54fb",
   "metadata": {},
   "outputs": [
    {
     "name": "stdout",
     "output_type": "stream",
     "text": [
      "The 5 fold cross validation scores: \n",
      "330.8258068394832\n",
      "325.6886826126811\n",
      "322.4208018505334\n",
      "324.8332560719293\n",
      "326.27986367224855\n"
     ]
    }
   ],
   "source": [
    "from sklearn.svm import LinearSVR\n",
    "from sklearn.model_selection import ShuffleSplit\n",
    "ss = ShuffleSplit(n_splits=5, test_size=.25, random_state=0)\n",
    "sklearn_sv = []\n",
    "sv_cv = []\n",
    "print(\"The 5 fold cross validation scores: \")\n",
    "for train_index, val_index in ss.split(X_train):\n",
    "    x_train = X_train.iloc[train_index]\n",
    "    y_train = Y_train.iloc[train_index]\n",
    "    val_x = X_train.iloc[val_index]\n",
    "    val_y = Y_train.iloc[val_index]\n",
    "    sklearn_sv.append(LinearSVR().fit(x_train,np.array(y_train).ravel()))\n",
    "    pred_y = sklearn_sv[-1].predict(val_x)\n",
    "    sv_cv.append(np.sqrt(mean_squared_error(pred_y,val_y)))\n",
    "    print(np.sqrt(mean_squared_error(pred_y,val_y)))"
   ]
  },
  {
   "cell_type": "code",
   "execution_count": 22,
   "id": "c3188c43",
   "metadata": {},
   "outputs": [
    {
     "name": "stdout",
     "output_type": "stream",
     "text": [
      "Prediction score on unseen test data: \n",
      "326.2417608682769\n"
     ]
    }
   ],
   "source": [
    "print(\"Prediction score on unseen test data: \")\n",
    "final_pred = []\n",
    "for sv in sklearn_sv:   \n",
    "        final_pred.append(sv.predict(X_test))\n",
    "final_y = (np.array(final_pred[0]) + np.array(final_pred[1]) + np.array(final_pred[2]) + \n",
    "                                                    np.array(final_pred[3]) + np.array(final_pred[4]))/5\n",
    "sv_ts = np.sqrt(mean_squared_error(final_y,Y_test))\n",
    "print(np.sqrt(mean_squared_error(final_y,Y_test)))"
   ]
  },
  {
   "cell_type": "markdown",
   "id": "4addd6c6",
   "metadata": {},
   "source": [
    "### Decision Tree Regression"
   ]
  },
  {
   "cell_type": "code",
   "execution_count": 13,
   "id": "90003f0c",
   "metadata": {},
   "outputs": [
    {
     "name": "stdout",
     "output_type": "stream",
     "text": [
      "The 5 fold cross validation scores: \n",
      "5.754871360400381\n",
      "6.008357752235373\n",
      "5.600425090647011\n",
      "5.607841512879983\n",
      "5.917259280599842\n"
     ]
    }
   ],
   "source": [
    "from sklearn.tree import DecisionTreeRegressor\n",
    "sklearn_dt = []\n",
    "dt_cv = []\n",
    "print(\"The 5 fold cross validation scores: \")\n",
    "for train_index, val_index in ss.split(X_train):\n",
    "    x_train = X_train.iloc[train_index]\n",
    "    y_train = Y_train.iloc[train_index]\n",
    "    val_x = X_train.iloc[val_index]\n",
    "    val_y = Y_train.iloc[val_index]\n",
    "    sklearn_dt.append(DecisionTreeRegressor().fit(x_train,y_train))\n",
    "    pred_y = sklearn_dt[-1].predict(val_x)\n",
    "    dt_cv.append(np.sqrt(mean_squared_error(pred_y,val_y)))\n",
    "    print(np.sqrt(mean_squared_error(pred_y,val_y)))"
   ]
  },
  {
   "cell_type": "code",
   "execution_count": 14,
   "id": "5083456a",
   "metadata": {},
   "outputs": [
    {
     "name": "stdout",
     "output_type": "stream",
     "text": [
      "Prediction score on unseen test data: \n",
      "4.642695699822237\n"
     ]
    }
   ],
   "source": [
    "print(\"Prediction score on unseen test data: \")\n",
    "final_pred = []\n",
    "for dt in sklearn_dt:   \n",
    "        final_pred.append(dt.predict(X_test))\n",
    "final_y = (np.array(final_pred[0]) + np.array(final_pred[1]) + np.array(final_pred[2]) + \n",
    "                                                    np.array(final_pred[3]) + np.array(final_pred[4]))/5\n",
    "dt_ts = np.sqrt(mean_squared_error(final_y,Y_test))\n",
    "print(np.sqrt(mean_squared_error(final_y,Y_test)))"
   ]
  },
  {
   "cell_type": "markdown",
   "id": "3591a3e7",
   "metadata": {},
   "source": [
    "<p>Using the feature_importance attribute of Decision Tree Regressor we observe the importance of the independent variables in the model.</p>"
   ]
  },
  {
   "cell_type": "code",
   "execution_count": 15,
   "id": "6ef3dde5",
   "metadata": {},
   "outputs": [
    {
     "data": {
      "text/plain": [
       "[('NDIMC', 0.1842862193799159),\n",
       " ('NWG', 0.1473463356126496),\n",
       " ('MDIMC', 0.131881683377357),\n",
       " ('MWG', 0.1304506031097396),\n",
       " ('SA_1', 0.06266432864981204),\n",
       " ('SB_1', 0.060596384290234596),\n",
       " ('KWG', 0.049662159654230785),\n",
       " ('KWI', 0.026320018780262567),\n",
       " ('VWN', 0.0026204805453951333),\n",
       " ('VWM', 0.00250666863384419),\n",
       " ('STRM_1', 0.0008898498999369284),\n",
       " ('STRN_1', 0.000647882340474043),\n",
       " ('MDIMA', 6.83751050273648e-05),\n",
       " ('NDIMB', 5.901062112014638e-05)]"
      ]
     },
     "execution_count": 15,
     "metadata": {},
     "output_type": "execute_result"
    }
   ],
   "source": [
    "feature_imp = []\n",
    "feature_imp_mean = sklearn_dt[0].feature_importances_\n",
    "for i in range(1,4):\n",
    "    feature_imp_mean += np.array(sklearn_dt[0].feature_importances_)\n",
    "feature_imp_mean = np.array(feature_imp_mean)/5\n",
    "for i in range(14):\n",
    "    feature_imp.append((X.columns[i],feature_imp_mean[i]))\n",
    "feature_imp = sorted(list(feature_imp),key = lambda x: x[1])\n",
    "feature_imp.reverse()\n",
    "feature_imp"
   ]
  },
  {
   "cell_type": "markdown",
   "id": "93bfea41",
   "metadata": {},
   "source": [
    "## Dimensionality Reduction\n",
    "\n",
    "We use PCA to reduce the dimension of X. We see that reducing the dimensions is not effective. We need at least 11 dimensions to capture 0.9% of the explained variance. Infact, the decision tree regressor clearly losses its effectiveness in the reduced dimension space."
   ]
  },
  {
   "cell_type": "code",
   "execution_count": 23,
   "id": "a496eec9",
   "metadata": {},
   "outputs": [
    {
     "data": {
      "text/plain": [
       "0.9055907704789264"
      ]
     },
     "execution_count": 23,
     "metadata": {},
     "output_type": "execute_result"
    }
   ],
   "source": [
    "from sklearn.decomposition import PCA\n",
    "pca = PCA(11)\n",
    "pca.fit(X)\n",
    "sum(pca.explained_variance_ratio_)"
   ]
  },
  {
   "cell_type": "code",
   "execution_count": 24,
   "id": "5d623219",
   "metadata": {},
   "outputs": [],
   "source": [
    "X_trainr,X_testr,Y_trainr,Y_testr = train_test_split(pca.transform(X),Y)\n",
    "X_trainr = pd.DataFrame(X_trainr)\n",
    "X_testr = pd.DataFrame(X_testr)"
   ]
  },
  {
   "cell_type": "code",
   "execution_count": 25,
   "id": "86f3fd52",
   "metadata": {},
   "outputs": [
    {
     "name": "stdout",
     "output_type": "stream",
     "text": [
      "The 5 fold cross validation scores for dimension reduced: \n",
      "304.10211246682593\n",
      "300.813881350857\n",
      "298.04538228469335\n",
      "301.238190781458\n",
      "296.2571832264385\n"
     ]
    }
   ],
   "source": [
    "from sklearn.model_selection import ShuffleSplit\n",
    "ss = ShuffleSplit(n_splits=5, test_size=.25, random_state=0)\n",
    "theta_lr = []\n",
    "self_lrr_cv = []\n",
    "print(\"The 5 fold cross validation scores for dimension reduced: \")\n",
    "for train_index, val_index in ss.split(X_trainr):\n",
    "    x_train = X_trainr.iloc[train_index]\n",
    "    y_train = Y_trainr.iloc[train_index]\n",
    "    val_x = X_trainr.iloc[val_index]\n",
    "    val_y = Y_trainr.iloc[val_index]\n",
    "    theta = gradient_descent_mv(0.0001, x_train, y_train)\n",
    "    theta_lr.append(theta)\n",
    "    pred_y = []\n",
    "    for i in range(val_x.shape[0]):\n",
    "        temp_l = list(np.array(val_x.iloc[i,:]))\n",
    "        temp_l.append(1)\n",
    "        pred_y.append(np.dot(np.array(temp_l),theta))\n",
    "    self_lrr_cv.append(np.sqrt(mean_squared_error(pred_y,val_y)))\n",
    "    print(np.sqrt(mean_squared_error(pred_y,val_y)))"
   ]
  },
  {
   "cell_type": "code",
   "execution_count": 26,
   "id": "e53a0c17",
   "metadata": {},
   "outputs": [
    {
     "name": "stdout",
     "output_type": "stream",
     "text": [
      "Prediction score on unseen test data: \n",
      "300.7551220798212\n"
     ]
    }
   ],
   "source": [
    "print(\"Prediction score on unseen test data: \")\n",
    "final_pred = []\n",
    "for theta in theta_lr:   \n",
    "    pred_y = []\n",
    "    for i in range(X_testr.shape[0]):\n",
    "        temp_l = list(np.array(X_testr.iloc[i,:]))\n",
    "        temp_l.append(1)\n",
    "        pred_y.append(np.dot(np.array(temp_l),theta))\n",
    "        final_pred.append(pred_y)\n",
    "final_y = (np.array(final_pred[0]) + np.array(final_pred[1]) + np.array(final_pred[2]) + \n",
    "                                                    np.array(final_pred[3]) + np.array(final_pred[4]))/5\n",
    "self_lrr_ts = np.sqrt(mean_squared_error(final_y,Y_testr))\n",
    "print(np.sqrt(mean_squared_error(final_y,Y_testr)))"
   ]
  },
  {
   "cell_type": "code",
   "execution_count": 27,
   "id": "cb265f0f",
   "metadata": {},
   "outputs": [
    {
     "name": "stdout",
     "output_type": "stream",
     "text": [
      "The 5 fold cross validation scores for dimension reduced: \n",
      "304.09658484760445\n",
      "300.8070699844939\n",
      "298.029956166867\n",
      "301.22946431082886\n",
      "296.258103915261\n"
     ]
    }
   ],
   "source": [
    "from sklearn.model_selection import ShuffleSplit\n",
    "ss = ShuffleSplit(n_splits=5, test_size=.25, random_state=0)\n",
    "from sklearn.linear_model import LinearRegression\n",
    "sklearn_lrr = []\n",
    "lrr_cv = []\n",
    "print(\"The 5 fold cross validation scores for dimension reduced: \")\n",
    "for train_index, val_index in ss.split(X_trainr):\n",
    "    x_train = X_trainr.iloc[train_index]\n",
    "    y_train = Y_trainr.iloc[train_index]\n",
    "    val_x = X_trainr.iloc[val_index]\n",
    "    val_y = Y_trainr.iloc[val_index]\n",
    "    sklearn_lrr.append(LinearRegression().fit(x_train,y_train))\n",
    "    pred_y = sklearn_lrr[-1].predict(val_x)\n",
    "    lrr_cv.append(np.sqrt(mean_squared_error(pred_y,val_y)))\n",
    "    print(np.sqrt(mean_squared_error(pred_y,val_y)))"
   ]
  },
  {
   "cell_type": "code",
   "execution_count": 28,
   "id": "a1cde697",
   "metadata": {},
   "outputs": [
    {
     "name": "stdout",
     "output_type": "stream",
     "text": [
      "Prediction score on unseen test data: \n",
      "300.7420937307404\n"
     ]
    }
   ],
   "source": [
    "print(\"Prediction score on unseen test data: \")\n",
    "final_pred = []\n",
    "for lrr in sklearn_lrr:   \n",
    "        final_pred.append(lrr.predict(X_testr))\n",
    "final_y = (np.array(final_pred[0]) + np.array(final_pred[1]) + np.array(final_pred[2]) + \n",
    "                                                    np.array(final_pred[3]) + np.array(final_pred[4]))/5\n",
    "lrr_ts = np.sqrt(mean_squared_error(final_y,Y_testr))\n",
    "print(np.sqrt(mean_squared_error(final_y,Y_testr)))"
   ]
  },
  {
   "cell_type": "code",
   "execution_count": 29,
   "id": "faedccde",
   "metadata": {},
   "outputs": [
    {
     "name": "stdout",
     "output_type": "stream",
     "text": [
      "The 5 fold cross validation scores for dimension reduced: \n",
      "334.2087625229217\n",
      "330.36172657187075\n",
      "327.8532989270862\n",
      "330.8486622011799\n",
      "324.259263617484\n"
     ]
    }
   ],
   "source": [
    "from sklearn.svm import LinearSVR\n",
    "from sklearn.model_selection import ShuffleSplit\n",
    "ss = ShuffleSplit(n_splits=5, test_size=.25, random_state=0)\n",
    "sklearn_svr = []\n",
    "svr_cv = []\n",
    "print(\"The 5 fold cross validation scores for dimension reduced: \")\n",
    "for train_index, val_index in ss.split(X_trainr):\n",
    "    x_train = X_trainr.iloc[train_index]\n",
    "    y_train = Y_trainr.iloc[train_index]\n",
    "    val_x = X_trainr.iloc[val_index]\n",
    "    val_y = Y_trainr.iloc[val_index]\n",
    "    sklearn_svr.append(LinearSVR().fit(x_train,np.array(y_train).ravel()))\n",
    "    pred_y = sklearn_svr[-1].predict(val_x)\n",
    "    svr_cv.append(np.sqrt(mean_squared_error(pred_y,val_y)))\n",
    "    print(np.sqrt(mean_squared_error(pred_y,val_y)))"
   ]
  },
  {
   "cell_type": "code",
   "execution_count": 30,
   "id": "f0fbb713",
   "metadata": {},
   "outputs": [
    {
     "name": "stdout",
     "output_type": "stream",
     "text": [
      "Prediction score on unseen test data: \n",
      "330.0355582496593\n"
     ]
    }
   ],
   "source": [
    "print(\"Prediction score on unseen test data: \")\n",
    "final_pred = []\n",
    "for svr in sklearn_svr:   \n",
    "        final_pred.append(svr.predict(X_testr))\n",
    "final_y = (np.array(final_pred[0]) + np.array(final_pred[1]) + np.array(final_pred[2]) + \n",
    "                                                    np.array(final_pred[3]) + np.array(final_pred[4]))/5\n",
    "svr_ts = np.sqrt(mean_squared_error(final_y,Y_testr))\n",
    "print(np.sqrt(mean_squared_error(final_y,Y_testr)))"
   ]
  },
  {
   "cell_type": "code",
   "execution_count": 31,
   "id": "33d446a4",
   "metadata": {},
   "outputs": [
    {
     "name": "stdout",
     "output_type": "stream",
     "text": [
      "The 5 fold cross validation scores for dimension reduced: \n",
      "134.80138413143445\n",
      "135.46803257668012\n",
      "130.24565148648563\n",
      "127.63386031659338\n",
      "128.6479744623993\n"
     ]
    }
   ],
   "source": [
    "from sklearn.tree import DecisionTreeRegressor\n",
    "sklearn_dtr = []\n",
    "dtr_cv = []\n",
    "print(\"The 5 fold cross validation scores for dimension reduced: \")\n",
    "for train_index, val_index in ss.split(X_trainr):\n",
    "    x_train = X_trainr.iloc[train_index]\n",
    "    y_train = Y_trainr.iloc[train_index]\n",
    "    val_x = X_trainr.iloc[val_index]\n",
    "    val_y = Y_trainr.iloc[val_index]\n",
    "    sklearn_dtr.append(DecisionTreeRegressor().fit(x_train,y_train))\n",
    "    pred_y = sklearn_dtr[-1].predict(val_x)\n",
    "    dtr_cv.append(np.sqrt(mean_squared_error(pred_y,val_y)))\n",
    "    print(np.sqrt(mean_squared_error(pred_y,val_y)))"
   ]
  },
  {
   "cell_type": "code",
   "execution_count": 32,
   "id": "288e1772",
   "metadata": {},
   "outputs": [
    {
     "name": "stdout",
     "output_type": "stream",
     "text": [
      "Prediction score on unseen test data: \n",
      "92.25787359594212\n"
     ]
    }
   ],
   "source": [
    "print(\"Prediction score on unseen test data: \")\n",
    "final_pred = []\n",
    "for dtr in sklearn_dtr:   \n",
    "        final_pred.append(dtr.predict(X_testr))\n",
    "final_y = (np.array(final_pred[0]) + np.array(final_pred[1]) + np.array(final_pred[2]) + \n",
    "                                                    np.array(final_pred[3]) + np.array(final_pred[4]))/5\n",
    "dtr_ts = np.sqrt(mean_squared_error(final_y,Y_testr))\n",
    "print(np.sqrt(mean_squared_error(final_y,Y_testr)))"
   ]
  },
  {
   "cell_type": "markdown",
   "id": "f135d60a",
   "metadata": {},
   "source": [
    "### Visualising the results"
   ]
  },
  {
   "cell_type": "code",
   "execution_count": 33,
   "id": "c43a29bb",
   "metadata": {},
   "outputs": [
    {
     "data": {
      "text/plain": [
       "[]"
      ]
     },
     "execution_count": 33,
     "metadata": {},
     "output_type": "execute_result"
    },
    {
     "data": {
      "image/png": "[encoded data removed]",
      "text/plain": [
       "<Figure size 864x360 with 2 Axes>"
      ]
     },
     "metadata": {
      "needs_background": "light"
     },
     "output_type": "display_data"
    }
   ],
   "source": [
    "fig,ax = plt.subplots(1,2,figsize = (12,5))\n",
    "cv_mean = [np.array(self_lr_cv).mean(),np.array(lr_cv).mean(),np.array(sv_cv).mean(),np.array(dt_cv).mean()]\n",
    "cv_mean_pca = [np.array(self_lrr_cv).mean(),np.array(lrr_cv).mean(),np.array(svr_cv).mean(),np.array(dtr_cv).mean()]\n",
    "cv_std = [np.array(self_lr_cv).std(),np.array(lr_cv).std(),np.array(sv_cv).std(),np.array(dt_cv).std()]\n",
    "cv_std_pca = [np.array(self_lrr_cv).std(),np.array(lrr_cv).std(),np.array(svr_cv).std(),np.array(dtr_cv).std()]\n",
    "x0 = ['self_Linear_Regression','Linear_Regression','SVM','Decision_Tree']\n",
    "\n",
    "ax[0].plot(x0,cv_mean,color = 'green')\n",
    "ax[0].plot(x0,cv_mean_pca,color = 'blue')\n",
    "ax[0].set_ylabel(\"mean of CV loss\")\n",
    "ax[0].set_xlabel('Algorithm')\n",
    "ax[0].legend(['Without_PCA','With_PCA'])\n",
    "ax[0].tick_params(axis = 'x',rotation = 90)\n",
    "\n",
    "ax[1].plot(x0,cv_std,color = 'green')\n",
    "ax[1].plot(x0,cv_std_pca,color = 'blue')\n",
    "ax[1].set_ylabel(\"std_dev of CV loss\")\n",
    "ax[1].set_xlabel('Algorithm')\n",
    "ax[1].legend(['Without_PCA','With_PCA'])\n",
    "ax[1].tick_params(axis = 'x',rotation = 90)\n",
    "plt.plot()"
   ]
  },
  {
   "cell_type": "code",
   "execution_count": 34,
   "id": "0d2aed75",
   "metadata": {},
   "outputs": [
    {
     "data": {
      "text/plain": [
       "[]"
      ]
     },
     "execution_count": 34,
     "metadata": {},
     "output_type": "execute_result"
    },
    {
     "data": {
      "image/png": "[encoded data removed]",
      "text/plain": [
       "<Figure size 432x288 with 1 Axes>"
      ]
     },
     "metadata": {
      "needs_background": "light"
     },
     "output_type": "display_data"
    }
   ],
   "source": [
    "fig,ax = plt.subplots()\n",
    "ax.plot(x0,[self_lr_ts,lr_ts,sv_ts,dt_ts])\n",
    "ax.plot(x0,[self_lrr_ts,lrr_ts,svr_ts,dtr_ts])\n",
    "ax.set_ylabel(\"RSME Loss on Test Data\")\n",
    "ax.set_xlabel(\"Algorithm\")\n",
    "ax.legend(['Without_PCA','With_PCA'])\n",
    "ax.tick_params(axis = 'x',rotation = 90)\n",
    "plt.plot()"
   ]
  },
  {
   "cell_type": "markdown",
   "id": "686c33c2",
   "metadata": {},
   "source": [
    "## Conclusions\n",
    "\n",
    "It was possible to accurately predict the Runtime of the matrix multiplication using the Decision Tree Regressor. The RMSE loss on 36,240 samples was 4.38 ms. We also saw that thee features NDIMC, NWG, MDIMC, MWG, SA_1,SB_1,KWG and KWI where of greater importance to the model than the other features."
   ]
  }
 ],
 "metadata": {
  "kernelspec": {
   "display_name": "Python 3",
   "language": "python",
   "name": "python3"
  },
  "language_info": {
   "codemirror_mode": {
    "name": "ipython",
    "version": 3
   },
   "file_extension": ".py",
   "mimetype": "text/x-python",
   "name": "python",
   "nbconvert_exporter": "python",
   "pygments_lexer": "ipython3",
   "version": "3.8.8"
  }
 },
 "nbformat": 4,
 "nbformat_minor": 5
}
